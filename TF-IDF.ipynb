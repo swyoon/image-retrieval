{
 "cells": [
  {
   "cell_type": "markdown",
   "metadata": {},
   "source": [
    "# Bag-of-Objects TF-IDF"
   ]
  },
  {
   "cell_type": "code",
   "execution_count": 4,
   "metadata": {},
   "outputs": [],
   "source": [
    "import numpy as np\n",
    "import matplotlib.pyplot as plt\n",
    "import torch\n",
    "import torch.nn as nn\n",
    "import pickle\n",
    "import pandas as pd\n",
    "from tqdm import tqdm\n",
    "import os\n",
    "\n",
    "from dataloader import he_sampling\n",
    "from data import FlickrDataset, CocoDataset, VGDataset\n",
    "from PIL import Image\n",
    "import matplotlib.patches as patches\n",
    "\n",
    "from sklearn.feature_extraction.text import TfidfTransformer\n"
   ]
  },
  {
   "cell_type": "code",
   "execution_count": 3,
   "metadata": {},
   "outputs": [],
   "source": [
    "ds = VGDataset(sg_path=None)"
   ]
  },
  {
   "cell_type": "code",
   "execution_count": 5,
   "metadata": {},
   "outputs": [],
   "source": [
    "l_test = ds.d_split['test']"
   ]
  },
  {
   "cell_type": "code",
   "execution_count": 6,
   "metadata": {},
   "outputs": [],
   "source": [
    "l_train_terms = []\n",
    "for img_id in ds.d_split['train']:\n",
    "    sg = ds.imgid2sg(img_id)\n",
    "    l_train_terms.append(sg['obj_labels'])\n",
    "    \n",
    "l_test_terms = []\n",
    "for img_id in ds.d_split['test']:\n",
    "    sg = ds.imgid2sg(img_id)\n",
    "    l_test_terms.append(sg['obj_labels'])    "
   ]
  },
  {
   "cell_type": "code",
   "execution_count": 7,
   "metadata": {},
   "outputs": [],
   "source": [
    "train_vocab = set([t for d in l_train_terms for t in d])"
   ]
  },
  {
   "cell_type": "code",
   "execution_count": 8,
   "metadata": {},
   "outputs": [],
   "source": [
    "test_vocab = set([t for d in l_test_terms for t in d])"
   ]
  },
  {
   "cell_type": "code",
   "execution_count": 9,
   "metadata": {},
   "outputs": [],
   "source": [
    "vocab = train_vocab.union(test_vocab)\n",
    "vocab2idx = {v:i for i, v in enumerate(sorted(list(vocab)))}"
   ]
  },
  {
   "cell_type": "code",
   "execution_count": 10,
   "metadata": {},
   "outputs": [],
   "source": [
    "train_mat = np.zeros((len(l_train_terms), len(vocab)))\n",
    "test_mat = np.zeros((len(l_test_terms), len(vocab)))"
   ]
  },
  {
   "cell_type": "code",
   "execution_count": 11,
   "metadata": {},
   "outputs": [],
   "source": [
    "for i_d, d in enumerate(l_train_terms):\n",
    "    for t in d:\n",
    "        idx = vocab2idx[t]\n",
    "        train_mat[i_d, idx] += 1\n",
    "        \n",
    "for i_d, d in enumerate(l_test_terms):\n",
    "    for t in d:\n",
    "        idx = vocab2idx[t]\n",
    "        test_mat[i_d, idx] += 1        "
   ]
  },
  {
   "cell_type": "code",
   "execution_count": 12,
   "metadata": {},
   "outputs": [],
   "source": [
    "tfidf = TfidfTransformer()"
   ]
  },
  {
   "cell_type": "code",
   "execution_count": 13,
   "metadata": {},
   "outputs": [
    {
     "data": {
      "text/plain": [
       "TfidfTransformer(norm='l2', smooth_idf=True, sublinear_tf=False, use_idf=True)"
      ]
     },
     "execution_count": 13,
     "metadata": {},
     "output_type": "execute_result"
    }
   ],
   "source": [
    "tfidf.fit(train_mat)"
   ]
  },
  {
   "cell_type": "code",
   "execution_count": 14,
   "metadata": {},
   "outputs": [],
   "source": [
    "test_tfidf = tfidf.transform(test_mat).toarray()"
   ]
  },
  {
   "cell_type": "code",
   "execution_count": 15,
   "metadata": {},
   "outputs": [],
   "source": [
    "sim_mat = test_tfidf.dot(test_tfidf.T)"
   ]
  },
  {
   "cell_type": "code",
   "execution_count": 16,
   "metadata": {},
   "outputs": [
    {
     "name": "stderr",
     "output_type": "stream",
     "text": [
      "100%|██████████| 13203/13203 [16:10<00:00, 13.60it/s]\n"
     ]
    }
   ],
   "source": [
    "result_dir = '/data/project/rw/viewer_CBIR/viewer/vg_coco_results/boo_tfidf'\n",
    "for i_query, test_id in enumerate(tqdm(l_test)):  # query id\n",
    "    l_sim = []\n",
    "    for j_target, target_id in enumerate(l_test):\n",
    "        l_sim.append(sim_mat[i_query, j_target])\n",
    "    df = pd.DataFrame({'target_id': l_test, 'sim': l_sim}).sort_values('target_id')\n",
    "\n",
    "    df[['target_id', 'sim']].to_csv(os.path.join(result_dir, f'{test_id}.tsv'), sep='\\t', header=False, index=False)"
   ]
  }
 ],
 "metadata": {
  "kernelspec": {
   "display_name": "Python 3",
   "language": "python",
   "name": "python3"
  },
  "language_info": {
   "codemirror_mode": {
    "name": "ipython",
    "version": 3
   },
   "file_extension": ".py",
   "mimetype": "text/x-python",
   "name": "python",
   "nbconvert_exporter": "python",
   "pygments_lexer": "ipython3",
   "version": "3.6.8"
  }
 },
 "nbformat": 4,
 "nbformat_minor": 4
}
