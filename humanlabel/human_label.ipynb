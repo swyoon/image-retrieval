{
 "cells": [
  {
   "cell_type": "markdown",
   "metadata": {},
   "source": [
    "# Human Triplet Label Data Analysis\n",
    "\n",
    "* 사람으로부터 수집된 image triplet에 대한 label 결과를 분석한다.\n",
    "* 먼저 inter-user agreement 지표를 집계한다.\n",
    "* 그 후 알고리즘과 사람의 agreement를 집계한다.\n",
    "* 집계 지표는 (Gordo and Larlus, 2017)를 따른다."
   ]
  },
  {
   "cell_type": "markdown",
   "metadata": {},
   "source": [
    "## Summary\n",
    "\n",
    "### 1. Basic stats\n",
    "\n",
    "* Triplets : 10,000\n",
    "* Human Labels : 30439 (no duplicates)\n",
    "* Labelers : 37\n",
    "* Labelers who labeled more than 10 triplets : 35\n",
    "* Total count of answers\n",
    "\n",
    "| Left | Right | ? (both) | X (Neither) |\n",
    "|:------:|:-------:|:----------:|:-------------:|\n",
    "|11550 | 9834 | 6721 | 2334 |\n",
    "\n",
    "* Distribution of the numbers of answers per triplets\n",
    "| 1     | 2       | 3       | 4      |      5     |\n",
    "|:-----:|:-------:|:----------:|:-------------:|:---:|\n",
    "|.975 | 2383 | 3010 | 2117 | 1440 |\n",
    "\n",
    "\n",
    "### 2. Inter-Human Agreement\n",
    "\n",
    "* Agreement score among 35 labelers: **0.6901 +- 0.0408(std)**\n",
    "\n",
    "### 3. Agreement of Baseline Algorithms\n",
    "\n",
    "| Method   |   Agreement |\n",
    "|:-------------------------------:|:------------:|\n",
    "| ResNet                          | 0.5724  |\n",
    "| GT S-BERT                       | 0.6071 |\n",
    "| Gen S-BERT                      | 0.5406 |\n",
    "| 0.55 * ResNet + 0.45 * GT S-BERT   | 0.6661 |\n",
    "| 0.55 * ResNet + 0.45 * Gen S-BERT   | 0.5822 |\n",
    "\n",
    "<!-- test_resnet_cosine                    0.572403\n",
    "test_sbert                            0.497016\n",
    "test_sbert_gen                        0.540560\n",
    "gen_v1_resnet07_epoch_99              0.597935\n",
    "gen_v1_resnet07_epoch_99_rerank       0.586437 -->\n"
   ]
  },
  {
   "cell_type": "code",
   "execution_count": 110,
   "metadata": {},
   "outputs": [],
   "source": [
    "import pandas as pd\n",
    "import numpy as np\n",
    "import os\n",
    "from tqdm import tqdm\n",
    "import matplotlib.pyplot as plt"
   ]
  },
  {
   "cell_type": "code",
   "execution_count": 111,
   "metadata": {},
   "outputs": [],
   "source": [
    "df_result = pd.read_csv('results_v1_201911141704_final.csv')\n",
    "df_triplet = pd.read_csv('triplets_v1_201911102026.csv')\n",
    "df_triplet = df_triplet.set_index('triplet_id')"
   ]
  },
  {
   "cell_type": "code",
   "execution_count": 93,
   "metadata": {},
   "outputs": [
    {
     "data": {
      "text/plain": [
       "30439"
      ]
     },
     "execution_count": 93,
     "metadata": {},
     "output_type": "execute_result"
    }
   ],
   "source": [
    "len(df_result)"
   ]
  },
  {
   "cell_type": "code",
   "execution_count": 94,
   "metadata": {},
   "outputs": [
    {
     "data": {
      "text/plain": [
       "30439"
      ]
     },
     "execution_count": 94,
     "metadata": {},
     "output_type": "execute_result"
    }
   ],
   "source": [
    "len(df_result.drop_duplicates())"
   ]
  },
  {
   "cell_type": "markdown",
   "metadata": {},
   "source": [
    "## 1. Basic Stats"
   ]
  },
  {
   "cell_type": "code",
   "execution_count": 112,
   "metadata": {},
   "outputs": [
    {
     "data": {
      "text/plain": [
       "user_id\n",
       "cjhan                    9017\n",
       "erin122                  4908\n",
       "epsilon.kim              3002\n",
       "wookee3                  2422\n",
       "woong.ssang              2263\n",
       "edwin.kang               1283\n",
       "yoomin618                1075\n",
       "hexa.ai                  1039\n",
       "JRW                      1013\n",
       "chico2121                 519\n",
       "jinhyun.b                 474\n",
       "eunjin                    392\n",
       "IceAmericano              345\n",
       "LSW                       298\n",
       "Julyeon Seo               274\n",
       "Dray.Choe                 255\n",
       "Jinyeong                  251\n",
       "hyunji                    250\n",
       "cnuh                      211\n",
       "jihoon.lee                205\n",
       "yejun                     200\n",
       "robert.p                  136\n",
       "hihello2                  102\n",
       "Jonggwon                   87\n",
       "motherfathergentleman      76\n",
       "eos73                      73\n",
       "jay.mini                   50\n",
       "junojuno                   45\n",
       "sungbin.lim                31\n",
       "ian.theman                 31\n",
       "hans                       28\n",
       "kwon.g                     25\n",
       "scarlett.heo               21\n",
       "dhkwak                     16\n",
       "hihello                    15\n",
       "june.one                    4\n",
       "john.dublin                 3\n",
       "Name: id, dtype: int64"
      ]
     },
     "execution_count": 112,
     "metadata": {},
     "output_type": "execute_result"
    }
   ],
   "source": [
    "'''users and the numers of their labels'''\n",
    "df_result.groupby('user_id').count()['id'].sort_values(ascending=False)"
   ]
  },
  {
   "cell_type": "code",
   "execution_count": 113,
   "metadata": {},
   "outputs": [
    {
     "name": "stdout",
     "output_type": "stream",
     "text": [
      "37\n",
      "['wookee3', 'erin122', 'LSW', 'cnuh', 'hyunji', 'cjhan', 'IceAmericano', 'Julyeon Seo', 'epsilon.kim', 'eunjin', 'ian.theman', 'Dray.Choe', 'hans', 'robert.p', 'john.dublin', 'woong.ssang', 'hexa.ai', 'june.one', 'Jinyeong', 'JRW', 'yejun', 'sungbin.lim', 'edwin.kang', 'hihello', 'hihello2', 'chico2121', 'Jonggwon', 'junojuno', 'jihoon.lee', 'dhkwak', 'jay.mini', 'kwon.g', 'motherfathergentleman', 'scarlett.heo', 'yoomin618', 'jinhyun.b', 'eos73']\n"
     ]
    }
   ],
   "source": [
    "'''unique users'''\n",
    "l_users = list(df_result['user_id'].unique())\n",
    "print(len(l_users))\n",
    "print(l_users)"
   ]
  },
  {
   "cell_type": "code",
   "execution_count": 114,
   "metadata": {},
   "outputs": [
    {
     "name": "stdout",
     "output_type": "stream",
     "text": [
      "['Dray.Choe', 'IceAmericano', 'JRW', 'Jinyeong', 'Jonggwon', 'Julyeon Seo', 'LSW', 'chico2121', 'cjhan', 'cnuh', 'dhkwak', 'edwin.kang', 'eos73', 'epsilon.kim', 'erin122', 'eunjin', 'hans', 'hexa.ai', 'hihello', 'hihello2', 'hyunji', 'ian.theman', 'jay.mini', 'jihoon.lee', 'jinhyun.b', 'junojuno', 'kwon.g', 'motherfathergentleman', 'robert.p', 'scarlett.heo', 'sungbin.lim', 'wookee3', 'woong.ssang', 'yejun', 'yoomin618']\n",
      "35\n"
     ]
    }
   ],
   "source": [
    "'''filter users with low answer count (<10)'''\n",
    "filter_count = 10\n",
    "user_count = df_result.groupby('user_id').count()['id']\n",
    "l_filtered_users = (user_count[user_count > filter_count]).index.to_list()\n",
    "print(l_filtered_users)\n",
    "print(len(l_filtered_users))"
   ]
  },
  {
   "cell_type": "code",
   "execution_count": 10,
   "metadata": {},
   "outputs": [
    {
     "data": {
      "text/plain": [
       "answer\n",
       "0    11550.0\n",
       "1     9834.0\n",
       "2     6721.0\n",
       "3     2334.0\n",
       "dtype: float64"
      ]
     },
     "execution_count": 10,
     "metadata": {},
     "output_type": "execute_result"
    }
   ],
   "source": [
    "'''frequency of answers'''\n",
    "df_result.pivot_table(index='triplet_id', columns='answer', values='user_id', aggfunc='count').fillna(0).sum()"
   ]
  },
  {
   "cell_type": "code",
   "execution_count": 11,
   "metadata": {},
   "outputs": [
    {
     "data": {
      "text/html": [
       "<div>\n",
       "<style scoped>\n",
       "    .dataframe tbody tr th:only-of-type {\n",
       "        vertical-align: middle;\n",
       "    }\n",
       "\n",
       "    .dataframe tbody tr th {\n",
       "        vertical-align: top;\n",
       "    }\n",
       "\n",
       "    .dataframe thead th {\n",
       "        text-align: right;\n",
       "    }\n",
       "</style>\n",
       "<table border=\"1\" class=\"dataframe\">\n",
       "  <thead>\n",
       "    <tr style=\"text-align: right;\">\n",
       "      <th></th>\n",
       "      <th>user_id</th>\n",
       "      <th>answer</th>\n",
       "    </tr>\n",
       "    <tr>\n",
       "      <th>id</th>\n",
       "      <th></th>\n",
       "      <th></th>\n",
       "    </tr>\n",
       "  </thead>\n",
       "  <tbody>\n",
       "    <tr>\n",
       "      <td>1</td>\n",
       "      <td>975</td>\n",
       "      <td>975</td>\n",
       "    </tr>\n",
       "    <tr>\n",
       "      <td>2</td>\n",
       "      <td>2383</td>\n",
       "      <td>2383</td>\n",
       "    </tr>\n",
       "    <tr>\n",
       "      <td>3</td>\n",
       "      <td>3010</td>\n",
       "      <td>3010</td>\n",
       "    </tr>\n",
       "    <tr>\n",
       "      <td>4</td>\n",
       "      <td>2117</td>\n",
       "      <td>2117</td>\n",
       "    </tr>\n",
       "    <tr>\n",
       "      <td>5</td>\n",
       "      <td>1440</td>\n",
       "      <td>1440</td>\n",
       "    </tr>\n",
       "  </tbody>\n",
       "</table>\n",
       "</div>"
      ],
      "text/plain": [
       "    user_id  answer\n",
       "id                 \n",
       "1       975     975\n",
       "2      2383    2383\n",
       "3      3010    3010\n",
       "4      2117    2117\n",
       "5      1440    1440"
      ]
     },
     "execution_count": 11,
     "metadata": {},
     "output_type": "execute_result"
    }
   ],
   "source": [
    "'''answers per question'''\n",
    "df_result.groupby('triplet_id').count().groupby('id').count()"
   ]
  },
  {
   "cell_type": "code",
   "execution_count": 190,
   "metadata": {},
   "outputs": [],
   "source": [
    "# df_result = df_result[df_result['user_id'].apply(lambda x: x in {'cjhan', 'erin122', 'wookee3', 'epsilon.kim', 'edwin.kang', 'yoomin618', 'hexa.ai', 'woong.ssang'})]"
   ]
  },
  {
   "cell_type": "code",
   "execution_count": 12,
   "metadata": {},
   "outputs": [
    {
     "data": {
      "text/plain": [
       "30439"
      ]
     },
     "execution_count": 12,
     "metadata": {},
     "output_type": "execute_result"
    }
   ],
   "source": [
    "len(df_result)"
   ]
  },
  {
   "cell_type": "markdown",
   "metadata": {},
   "source": [
    "## 2. Inter-user agreement score for each user\n",
    "\n",
    "### Agreement metric from (Grodo and Larlus, 2017)\n",
    "For each triplet,\n",
    "\n",
    "$o1, o2$: the number of times the first (resp. second) image was chosen.  \n",
    "$o3$: the number of times people did not pick any of the two images.  \n",
    "\n",
    "Agreement score is computed as \n",
    "\n",
    "$$\n",
    "s = (\\frac{o_1+o_2 - 1}{o_1 + o_2 + o_3 - 1}) (\\frac{o_i - 1}{o_1 + o_2 - 1})\n",
    "$$\n",
    "where $o_i$ $i\\in\\{1,2\\}$ is the choice of the user."
   ]
  },
  {
   "cell_type": "markdown",
   "metadata": {},
   "source": [
    "## Our agreement metric\n",
    "Let  \n",
    "$o1, o2$ : the number of times the first (resp. second) image was chosen.  \n",
    "$p$ : the number of times both of images were chosen  \n",
    "$q$ : the nubmer of times neither of images were chosen\n",
    "\n",
    "\n",
    "If a person choses the first or the second image,  \n",
    "$$\n",
    "s = \\frac{o_i + 0.5 p - 1}{o_1 + o2 + p + q - 1}\n",
    "$$\n",
    "where $o_i$ $i\\in\\{1,2\\}$ is the choice of the user.\n",
    "\n",
    "If a person choses the \"both\" option,\n",
    "$$\n",
    "s = \\frac{0.5o_1 + 0.5o_2 + p - 1}{o_1 + o_2 + p + q - 1}\n",
    "$$\n",
    "\n",
    "If a person choses the \"neither\" options,\n",
    "$$\n",
    "s = 0\n",
    "% s = \\frac{q - 1}{o_1 + o_2 + p + q - 1}\n",
    "$$\n",
    "\n",
    "Given a person, the score is averaged over the whole triplet which he/she labeled."
   ]
  },
  {
   "cell_type": "code",
   "execution_count": 115,
   "metadata": {},
   "outputs": [
    {
     "data": {
      "text/html": [
       "<div>\n",
       "<style scoped>\n",
       "    .dataframe tbody tr th:only-of-type {\n",
       "        vertical-align: middle;\n",
       "    }\n",
       "\n",
       "    .dataframe tbody tr th {\n",
       "        vertical-align: top;\n",
       "    }\n",
       "\n",
       "    .dataframe thead th {\n",
       "        text-align: right;\n",
       "    }\n",
       "</style>\n",
       "<table border=\"1\" class=\"dataframe\">\n",
       "  <thead>\n",
       "    <tr style=\"text-align: right;\">\n",
       "      <th>answer</th>\n",
       "      <th>o1</th>\n",
       "      <th>o2</th>\n",
       "      <th>both</th>\n",
       "      <th>neither</th>\n",
       "      <th>o3</th>\n",
       "    </tr>\n",
       "    <tr>\n",
       "      <th>triplet_id</th>\n",
       "      <th></th>\n",
       "      <th></th>\n",
       "      <th></th>\n",
       "      <th></th>\n",
       "      <th></th>\n",
       "    </tr>\n",
       "  </thead>\n",
       "  <tbody>\n",
       "    <tr>\n",
       "      <td>1</td>\n",
       "      <td>1.0</td>\n",
       "      <td>2.0</td>\n",
       "      <td>0.0</td>\n",
       "      <td>0.0</td>\n",
       "      <td>0.0</td>\n",
       "    </tr>\n",
       "    <tr>\n",
       "      <td>2</td>\n",
       "      <td>0.0</td>\n",
       "      <td>2.0</td>\n",
       "      <td>2.0</td>\n",
       "      <td>0.0</td>\n",
       "      <td>2.0</td>\n",
       "    </tr>\n",
       "    <tr>\n",
       "      <td>3</td>\n",
       "      <td>4.0</td>\n",
       "      <td>0.0</td>\n",
       "      <td>1.0</td>\n",
       "      <td>0.0</td>\n",
       "      <td>1.0</td>\n",
       "    </tr>\n",
       "    <tr>\n",
       "      <td>4</td>\n",
       "      <td>0.0</td>\n",
       "      <td>3.0</td>\n",
       "      <td>0.0</td>\n",
       "      <td>0.0</td>\n",
       "      <td>0.0</td>\n",
       "    </tr>\n",
       "    <tr>\n",
       "      <td>5</td>\n",
       "      <td>5.0</td>\n",
       "      <td>0.0</td>\n",
       "      <td>0.0</td>\n",
       "      <td>0.0</td>\n",
       "      <td>0.0</td>\n",
       "    </tr>\n",
       "  </tbody>\n",
       "</table>\n",
       "</div>"
      ],
      "text/plain": [
       "answer       o1   o2  both  neither   o3\n",
       "triplet_id                              \n",
       "1           1.0  2.0   0.0      0.0  0.0\n",
       "2           0.0  2.0   2.0      0.0  2.0\n",
       "3           4.0  0.0   1.0      0.0  1.0\n",
       "4           0.0  3.0   0.0      0.0  0.0\n",
       "5           5.0  0.0   0.0      0.0  0.0"
      ]
     },
     "execution_count": 115,
     "metadata": {},
     "output_type": "execute_result"
    }
   ],
   "source": [
    "'''prepare answer_cnt'''\n",
    "answer_cnt = df_result[['id', 'triplet_id', 'answer']].pivot_table(index='triplet_id', columns='answer', aggfunc='count').fillna(0)\n",
    "answer_cnt.columns = answer_cnt.columns.droplevel(0)\n",
    "answer_cnt = answer_cnt.rename(columns={0:'o1', 1:'o2', 2:'both', 3:'neither'})\n",
    "answer_cnt['o3'] = answer_cnt['both'] + answer_cnt['neither']\n",
    "answer_cnt.head()"
   ]
  },
  {
   "cell_type": "code",
   "execution_count": 98,
   "metadata": {},
   "outputs": [
    {
     "name": "stdout",
     "output_type": "stream",
     "text": [
      "Dray.Choe\n",
      "IceAmericano\n",
      "JRW\n",
      "Jinyeong\n",
      "Jonggwon\n",
      "Julyeon Seo\n",
      "LSW\n",
      "chico2121\n",
      "cjhan\n",
      "cnuh\n",
      "dhkwak\n",
      "edwin.kang\n",
      "eos73\n",
      "epsilon.kim\n",
      "erin122\n",
      "eunjin\n",
      "hans\n",
      "hexa.ai\n",
      "hihello\n",
      "hihello2\n",
      "hyunji\n",
      "ian.theman\n",
      "jay.mini\n",
      "jihoon.lee\n",
      "jinhyun.b\n",
      "junojuno\n",
      "kwon.g\n",
      "motherfathergentleman\n",
      "robert.p\n",
      "scarlett.heo\n",
      "sungbin.lim\n",
      "wookee3\n",
      "woong.ssang\n",
      "yejun\n",
      "yoomin618\n",
      "score    0.690198\n",
      "dtype: float64 score    0.040811\n",
      "dtype: float64\n"
     ]
    }
   ],
   "source": [
    "'''user agreement'''\n",
    "user_agree = {'user': [], 'score': []}\n",
    "# for user in l_users:\n",
    "for user in l_filtered_users:    \n",
    "    print(user)\n",
    "    df_answer_person = df_result[df_result['user_id'] == user].sort_values('triplet_id')\n",
    "    l_score = []\n",
    "    for i, row in df_answer_person.iterrows():\n",
    "        triplet_id = row['triplet_id']\n",
    "        if row['answer'] not in (0, 1, 2):\n",
    "            continue\n",
    "\n",
    "        answer = answer_cnt.loc[triplet_id]\n",
    "        o1, o2, o3, p, q = answer['o1'], answer['o2'], answer['o3'], answer['both'], answer['neither']\n",
    "\n",
    "#         o1, o2 = answer['o1'], answer['o2']\n",
    "#         o3 = len(l_users) - o1 - o2\n",
    "\n",
    "        # requires more than two active votes for the triplet\n",
    "        if o1 + o2 < 2:\n",
    "            continue\n",
    "\n",
    "        if row['answer'] in {0, 1}:\n",
    "            if row['answer'] == 0:\n",
    "                oi = o1\n",
    "            else:\n",
    "                oi = o2\n",
    "            s = (oi + 0.5 * p  - 1) / (o1 + o2 + p + q - 1)\n",
    "        elif row['answer'] == 2:\n",
    "            s = (0.5 * o1 + 0.5 * o2 + p - 1 ) / (o1 + o2 + p + q - 1)\n",
    "        else:\n",
    "            s = 0\n",
    "#             s = (q - 1) / (o1 + o2 + p + 1 - 1)\n",
    "        \n",
    "\n",
    "#         s = (o1 + o2 - 1) / (o1 + o2 + o3 - 1) * (oi - 1) / (o1 + o2 - 1)\n",
    "        \n",
    "\n",
    "        l_score.append(s)\n",
    "    score = np.mean(l_score)\n",
    "    user_agree['user'].append(user)\n",
    "    user_agree['score'].append(score)\n",
    "user_agree = pd.DataFrame(user_agree)    \n",
    "user_agree.head()\n",
    "print(user_agree.mean(), user_agree.std())"
   ]
  },
  {
   "cell_type": "markdown",
   "metadata": {},
   "source": [
    "## Agreement between algorithm and human\n",
    "\n",
    "Let  \n",
    "$o1, o2$ : the number of times the first (resp. second) image was chosen.  \n",
    "$p$ : the number of times \"both\" icon were chosen  \n",
    "$q$ : the nubmer of times \"neither\" icon of images were chosen\n",
    "\n",
    "\n",
    "If an algorithm choses the first or the second image, it recieves the following agreement score  \n",
    "$$\n",
    "s = \\frac{o_i + 0.5 p - 1}{o_1 + o_2 + p + q - 1}\n",
    "$$\n",
    "where $o_i$ $i\\in\\{1,2\\}$ is the choice of the algorithm."
   ]
  },
  {
   "cell_type": "code",
   "execution_count": 116,
   "metadata": {},
   "outputs": [],
   "source": [
    "def read_similarity_data(algo, df_triplet):\n",
    "    '''pre-fetch similarity scores'''\n",
    "    d_sim = {}\n",
    "    result_path = '/data/project/rw/viewer_CBIR/viewer/results/'\n",
    "    for query_id, by_qid in df_triplet.groupby('query_id'):\n",
    "        l_target_ids = list(by_qid['target_id1']) + list(by_qid['target_id2'])\n",
    "        \n",
    "        data = pd.read_csv(os.path.join(result_path, algo, f'{query_id}.tsv'), delimiter='\\t', header=None)\n",
    "        data = data.rename(columns={0:'id', 1:'sim'}).set_index('id')\n",
    "#         sim = data.loc[[int(s) for s in l_target_ids]].to_dict()['sim']\n",
    "        sim = data.reindex([int(s) for s in l_target_ids]).to_dict()['sim']\n",
    "        d_sim[query_id] = sim\n",
    "    return d_sim"
   ]
  },
  {
   "cell_type": "code",
   "execution_count": 117,
   "metadata": {},
   "outputs": [],
   "source": [
    "def read_result(algo, query_id, l_target_ids):\n",
    "    result_path = '/data/project/rw/viewer_CBIR/viewer/results/'\n",
    "    data = pd.read_csv(os.path.join(result_path, algo, f'{query_id}.tsv'), delimiter='\\t', header=None)\n",
    "    data = data.rename(columns={0:'id', 1:'sim'}).set_index('id')\n",
    "    return data.loc[[int(s) for s in l_target_ids]].to_dict()['sim']"
   ]
  },
  {
   "cell_type": "code",
   "execution_count": 118,
   "metadata": {},
   "outputs": [
    {
     "name": "stderr",
     "output_type": "stream",
     "text": [
      "100%|██████████| 1/1 [00:16<00:00, 16.25s/it]\n"
     ]
    }
   ],
   "source": [
    "# l_algorithms = ['test_resnet_cosine', 'test_sbert', 'test_sbert_gen']\n",
    "#                 'gen_v1_resnet07_epoch_99', 'gen_v1_resnet07_epoch_99_rerank']\n",
    "# l_algorithms = ['v1_meansbert_gen_epoch_37', 'v1_meansbert_gen_epoch_37_rerank', 'han_meansbert_gen_epoch_36', 'han_meansbert_gen_epoch_36_rerank']\n",
    "l_algorithms = ['test_sbert_allcap_rerank',]\n",
    "# l_algorithms = ['v1_resnetweight05_epoch_10_rerank', 'gen_v1_resnet07_epoch_99_rerank', 'gen_v1_resnet07_epoch_99']\n",
    "algo_scores = {'triplet_id': list(answer_cnt.index)}\n",
    "d_resnet_sim = read_similarity_data('test_resnet_cosine', df_triplet)\n",
    "for algo in tqdm(l_algorithms):\n",
    "    d_sim_result = read_similarity_data(algo, df_triplet)\n",
    "    l_score = []\n",
    "    for triplet_id, row in answer_cnt.iterrows():\n",
    "        o1, o2, o3, p, q = row['o1'], row['o2'], row['o3'], row['both'], row['neither']\n",
    "\n",
    "        if o1 + o2  < 2:\n",
    "            l_score.append(np.nan)\n",
    "            continue\n",
    "            \n",
    "        # get algorithm's prediction\n",
    "        triplet = df_triplet.loc[triplet_id]\n",
    "        sim1 = d_sim_result[triplet['query_id']][triplet['target_id1']]\n",
    "        sim2 = d_sim_result[triplet['query_id']][triplet['target_id2']]\n",
    "        \n",
    "        # process reranking\n",
    "        if (np.isnan(sim1)) and (np.isnan(sim2)):\n",
    "            sim1 = d_resnet_sim[triplet['query_id']][triplet['target_id1']]\n",
    "            sim2 = d_resnet_sim[triplet['query_id']][triplet['target_id2']]\n",
    "        elif (np.isnan(sim1)) and not (np.isnan(sim2)):\n",
    "            sim1 = - np.inf\n",
    "        elif not (np.isnan(sim1)) and (np.isnan(sim2)):\n",
    "            sim2 = - np.inf\n",
    "        \n",
    "        if sim1 > sim2:\n",
    "            oi = o1\n",
    "        else:\n",
    "            oi = o2\n",
    "        \n",
    "        s = (oi + 0.5 * p ) / (o1 + o2 + p + q )\n",
    "        l_score.append(s)\n",
    "    algo_scores[algo] = l_score\n",
    "algo_scores = pd.DataFrame(algo_scores)\n"
   ]
  },
  {
   "cell_type": "code",
   "execution_count": 119,
   "metadata": {},
   "outputs": [
    {
     "data": {
      "text/plain": [
       "triplet_id                  4995.389622\n",
       "test_sbert_allcap_rerank       0.612267\n",
       "dtype: float64"
      ]
     },
     "execution_count": 119,
     "metadata": {},
     "output_type": "execute_result"
    }
   ],
   "source": [
    "algo_scores.mean()"
   ]
  },
  {
   "cell_type": "code",
   "execution_count": 100,
   "metadata": {},
   "outputs": [
    {
     "data": {
      "text/plain": [
       "triplet_id                           4995.389622\n",
       "v1_meansbert_gen_epoch_37               0.600697\n",
       "v1_meansbert_gen_epoch_37_rerank        0.589254\n",
       "han_meansbert_gen_epoch_36              0.569594\n",
       "han_meansbert_gen_epoch_36_rerank       0.583270\n",
       "dtype: float64"
      ]
     },
     "execution_count": 100,
     "metadata": {},
     "output_type": "execute_result"
    }
   ],
   "source": [
    "algo_scores.mean()"
   ]
  },
  {
   "cell_type": "code",
   "execution_count": 102,
   "metadata": {},
   "outputs": [
    {
     "data": {
      "text/plain": [
       "triplet_id                 4995.389622\n",
       "gwl_rerank                    0.580386\n",
       "gwl_gen_wordonly_rerank       0.590975\n",
       "dtype: float64"
      ]
     },
     "execution_count": 102,
     "metadata": {},
     "output_type": "execute_result"
    }
   ],
   "source": [
    "algo_scores.mean()"
   ]
  },
  {
   "cell_type": "code",
   "execution_count": 62,
   "metadata": {},
   "outputs": [
    {
     "name": "stderr",
     "output_type": "stream",
     "text": [
      "100%|██████████| 21/21 [01:29<00:00,  4.28s/it]\n"
     ]
    }
   ],
   "source": [
    "'''linear combination'''\n",
    "weights = np.linspace(0,1,21)\n",
    "d_resnet = read_similarity_data('test_resnet_cosine', df_triplet)\n",
    "d_sbert = read_similarity_data('test_sbert_gen', df_triplet)\n",
    "# d_sbert = read_similarity_data('test_sbert', df_triplet)\n",
    "algo_scores = {'triplet_id': list(answer_cnt.index)}\n",
    "for w in tqdm(weights):\n",
    "\n",
    "    l_score = []\n",
    "    for triplet_id, row in answer_cnt.iterrows():\n",
    "        o1, o2, o3, p, q = row['o1'], row['o2'], row['o3'], row['both'], row['neither']\n",
    "\n",
    "        if o1 + o2  < 2:\n",
    "            l_score.append(np.nan)\n",
    "            continue\n",
    "            \n",
    "        # get algorithm's prediction\n",
    "        \n",
    "        triplet = df_triplet.loc[triplet_id]\n",
    "        sim1_res = d_resnet[triplet['query_id']][triplet['target_id1']]\n",
    "        sim2_res = d_resnet[triplet['query_id']][triplet['target_id2']]\n",
    "        sim1_sbert = d_sbert[triplet['query_id']][triplet['target_id1']]\n",
    "        sim2_sbert = d_sbert[triplet['query_id']][triplet['target_id2']]\n",
    "        sim1 = w * sim1_res + (1 - w) * sim1_sbert\n",
    "        sim2 = w * sim2_res + (1 - w) * sim2_sbert\n",
    "        \n",
    "#         pred_sim = read_result(algo, triplet['query_id'], [triplet['target_id1'], triplet['target_id2']])\n",
    "#         sim1, sim2 = pred_sim[triplet['target_id1']], pred_sim[triplet['target_id2']]\n",
    "        \n",
    "        if sim1 > sim2:\n",
    "            oi = o1\n",
    "        else:\n",
    "            oi = o2\n",
    "        \n",
    "        s = (oi + 0.5 * p ) / (o1 + o2 + p + q )\n",
    "    #     print(o1, o2, o3, oi, s)\n",
    "        l_score.append(s)\n",
    "    algo_scores[f'mix{w:.3f}'] = l_score\n",
    "algo_scores = pd.DataFrame(algo_scores)\n"
   ]
  },
  {
   "cell_type": "code",
   "execution_count": 63,
   "metadata": {},
   "outputs": [],
   "source": [
    "l_gen_sbert_align = algo_scores.mean().to_list()[1:]"
   ]
  },
  {
   "cell_type": "code",
   "execution_count": 64,
   "metadata": {},
   "outputs": [
    {
     "data": {
      "text/plain": [
       "Text(0.5, 0, 'resnet mixing ratio')"
      ]
     },
     "execution_count": 64,
     "metadata": {},
     "output_type": "execute_result"
    },
    {
     "data": {
      "image/png": "[encoded data removed]",
      "text/plain": [
       "<Figure size 432x288 with 1 Axes>"
      ]
     },
     "metadata": {
      "needs_background": "light"
     },
     "output_type": "display_data"
    }
   ],
   "source": [
    "plt.plot(weights, l_gen_sbert_align, '--o')\n",
    "plt.xticks(weights, rotation=45);\n",
    "# plt.ylim([0,None])\n",
    "plt.text(0.1, 0.545, 'Gen S-BERT')\n",
    "plt.text(0.9, 0.57, 'ResNet')\n",
    "plt.ylabel('human agreement')\n",
    "plt.xlabel('resnet mixing ratio')"
   ]
  },
  {
   "cell_type": "code",
   "execution_count": 37,
   "metadata": {},
   "outputs": [
    {
     "data": {
      "text/plain": [
       "Text(0.5, 0, 'resnet mixing ratio')"
      ]
     },
     "execution_count": 37,
     "metadata": {},
     "output_type": "execute_result"
    },
    {
     "data": {
      "image/png": "[encoded data removed]",
      "text/plain": [
       "<Figure size 432x288 with 1 Axes>"
      ]
     },
     "metadata": {
      "needs_background": "light"
     },
     "output_type": "display_data"
    }
   ],
   "source": [
    "plt.plot(weights, l_human_align, '--o')\n",
    "plt.xticks(weights, rotation=45);\n",
    "# plt.ylim([0,None])\n",
    "plt.text(0.1, 0.542, 'Gen S-BERT')\n",
    "plt.text(0.9, 0.57, 'ResNet')\n",
    "plt.ylabel('human agreement')\n",
    "plt.xlabel('resnet mixing ratio')"
   ]
  },
  {
   "cell_type": "code",
   "execution_count": 22,
   "metadata": {},
   "outputs": [
    {
     "data": {
      "text/plain": [
       "0.5821519023772528"
      ]
     },
     "execution_count": 22,
     "metadata": {},
     "output_type": "execute_result"
    }
   ],
   "source": [
    "np.max(l_human_align)"
   ]
  },
  {
   "cell_type": "code",
   "execution_count": 35,
   "metadata": {},
   "outputs": [
    {
     "data": {
      "text/plain": [
       "Text(0.5, 0, 'resnet mixing ratio')"
      ]
     },
     "execution_count": 35,
     "metadata": {},
     "output_type": "execute_result"
    },
    {
     "data": {
      "image/png": "[encoded data removed]",
      "text/plain": [
       "<Figure size 432x288 with 1 Axes>"
      ]
     },
     "metadata": {
      "needs_background": "light"
     },
     "output_type": "display_data"
    }
   ],
   "source": [
    "plt.plot(weights, l_human_align, '--o')\n",
    "plt.xticks(weights, rotation=45);\n",
    "# plt.ylim([0,None])\n",
    "plt.text(0, 0.52, 'S-BERT')\n",
    "plt.text(0.9, 0.56, 'ResNet')\n",
    "plt.ylabel('human agreement')\n",
    "plt.xlabel('resnet mixing ratio')"
   ]
  },
  {
   "cell_type": "markdown",
   "metadata": {},
   "source": [
    "## Alternative S-BERT Similarities"
   ]
  },
  {
   "cell_type": "code",
   "execution_count": 39,
   "metadata": {},
   "outputs": [],
   "source": [
    "import h5py"
   ]
  },
  {
   "cell_type": "code",
   "execution_count": 40,
   "metadata": {},
   "outputs": [],
   "source": [
    "sbert_allcap_file = '/data/project/rw/medical_sg/sbert_allcaps_sims_batch.hdf5'\n",
    "f = h5py.File(sbert_allcap_file, 'r')"
   ]
  },
  {
   "cell_type": "code",
   "execution_count": 46,
   "metadata": {},
   "outputs": [],
   "source": [
    "class BERTSimilarityInMemV2:\n",
    "    \"\"\"class for handling SBERT similarity file from IMLAB\n",
    "    Identical to BERTSimilarity, but loads all similarity metric in memory\"\"\"\n",
    "    def __init__(self, file_path, key='mean'):\n",
    "        with h5py.File(file_path, 'r') as f:\n",
    "            self.idx_lookup = {str(img_id): idx for idx, img_id in enumerate(f['id'])}\n",
    "            self.sims = {}\n",
    "            for k, v in tqdm(f[key].items()):\n",
    "                self.sims[k] = v[:]\n",
    "            # self.sims = {k: v[:] for k, v in f['sims'].items()}\n",
    "\n",
    "    def get_similarity(self, img_id_1, img_id_2):\n",
    "        img_idx_2 = self.idx_lookup[str(img_id_2)]\n",
    "        return self.sims[str(img_id_1)][img_idx_2]"
   ]
  },
  {
   "cell_type": "code",
   "execution_count": 51,
   "metadata": {},
   "outputs": [
    {
     "name": "stderr",
     "output_type": "stream",
     "text": [
      "100%|██████████| 1000/1000 [00:00<00:00, 1780.88it/s]\n",
      "100%|██████████| 1000/1000 [00:00<00:00, 1534.09it/s]\n"
     ]
    }
   ],
   "source": [
    "sim_mean = BERTSimilarityInMemV2(sbert_allcap_file, 'mean')\n",
    "sim_max = BERTSimilarityInMemV2(sbert_allcap_file, 'max')"
   ]
  },
  {
   "cell_type": "code",
   "execution_count": 17,
   "metadata": {},
   "outputs": [],
   "source": [
    "def read_similarity_data_h5py(algo, df_triplet):\n",
    "    '''pre-fetch similarity scores'''\n",
    "    d_sim = {}\n",
    "    result_path = '/data/project/rw/viewer_CBIR/viewer/results/'\n",
    "    for query_id, by_qid in df_triplet.groupby('query_id'):\n",
    "        l_target_ids = list(by_qid['target_id1']) + list(by_qid['target_id2'])\n",
    "        \n",
    "        data = pd.read_csv(os.path.join(result_path, algo, f'{query_id}.tsv'), delimiter='\\t', header=None)\n",
    "        data = data.rename(columns={0:'id', 1:'sim'}).set_index('id')\n",
    "#         sim = data.loc[[int(s) for s in l_target_ids]].to_dict()['sim']\n",
    "        sim = data.reindex([int(s) for s in l_target_ids]).to_dict()['sim']\n",
    "        d_sim[query_id] = sim\n",
    "    return d_sim"
   ]
  },
  {
   "cell_type": "code",
   "execution_count": 52,
   "metadata": {},
   "outputs": [
    {
     "data": {
      "text/plain": [
       "0.6071174863387978"
      ]
     },
     "execution_count": 52,
     "metadata": {},
     "output_type": "execute_result"
    }
   ],
   "source": [
    "simsim = sim_mean\n",
    "l_score = []\n",
    "for triplet_id, row in answer_cnt.iterrows():\n",
    "    o1, o2, o3, p, q = row['o1'], row['o2'], row['o3'], row['both'], row['neither']\n",
    "\n",
    "    if o1 + o2  < 2:\n",
    "        l_score.append(np.nan)\n",
    "        continue\n",
    "\n",
    "    # get algorithm's prediction\n",
    "    triplet = df_triplet.loc[triplet_id]\n",
    "    sim1 = simsim.get_similarity(triplet['query_id'], triplet['target_id1'])\n",
    "    sim2 = simsim.get_similarity(triplet['query_id'], triplet['target_id2'])    \n",
    "\n",
    "    if sim1 > sim2:\n",
    "        oi = o1\n",
    "    else:\n",
    "        oi = o2\n",
    "\n",
    "    s = (oi + 0.5 * p ) / (o1 + o2 + p + q )\n",
    "    l_score.append(s)\n",
    "np.nanmean(l_score)"
   ]
  },
  {
   "cell_type": "code",
   "execution_count": 53,
   "metadata": {},
   "outputs": [
    {
     "data": {
      "text/plain": [
       "0.5779545454545454"
      ]
     },
     "execution_count": 53,
     "metadata": {},
     "output_type": "execute_result"
    }
   ],
   "source": [
    "simsim = sim_max\n",
    "l_score = []\n",
    "for triplet_id, row in answer_cnt.iterrows():\n",
    "    o1, o2, o3, p, q = row['o1'], row['o2'], row['o3'], row['both'], row['neither']\n",
    "\n",
    "    if o1 + o2  < 2:\n",
    "        l_score.append(np.nan)\n",
    "        continue\n",
    "\n",
    "    # get algorithm's prediction\n",
    "    triplet = df_triplet.loc[triplet_id]\n",
    "    sim1 = simsim.get_similarity(triplet['query_id'], triplet['target_id1'])\n",
    "    sim2 = simsim.get_similarity(triplet['query_id'], triplet['target_id2'])    \n",
    "\n",
    "    if sim1 > sim2:\n",
    "        oi = o1\n",
    "    else:\n",
    "        oi = o2\n",
    "\n",
    "    s = (oi + 0.5 * p ) / (o1 + o2 + p + q )\n",
    "    l_score.append(s)\n",
    "np.nanmean(l_score)"
   ]
  },
  {
   "cell_type": "code",
   "execution_count": 50,
   "metadata": {},
   "outputs": [
    {
     "data": {
      "text/plain": [
       "0.6071174863387978"
      ]
     },
     "execution_count": 50,
     "metadata": {},
     "output_type": "execute_result"
    }
   ],
   "source": [
    "np.nanmean(l_score)"
   ]
  },
  {
   "cell_type": "code",
   "execution_count": null,
   "metadata": {},
   "outputs": [],
   "source": []
  },
  {
   "cell_type": "code",
   "execution_count": 65,
   "metadata": {},
   "outputs": [
    {
     "name": "stderr",
     "output_type": "stream",
     "text": [
      "100%|██████████| 21/21 [01:37<00:00,  4.66s/it]\n"
     ]
    }
   ],
   "source": [
    "'''linear combination'''\n",
    "weights = np.linspace(0,1,21)\n",
    "d_resnet = read_similarity_data('test_resnet_cosine', df_triplet)\n",
    "simsim = sim_mean\n",
    "algo_scores = {'triplet_id': list(answer_cnt.index)}\n",
    "for w in tqdm(weights):\n",
    "\n",
    "    l_score = []\n",
    "    for triplet_id, row in answer_cnt.iterrows():\n",
    "        o1, o2, o3, p, q = row['o1'], row['o2'], row['o3'], row['both'], row['neither']\n",
    "\n",
    "        if o1 + o2  < 2:\n",
    "            l_score.append(np.nan)\n",
    "            continue\n",
    "            \n",
    "        # get algorithm's prediction\n",
    "        \n",
    "        triplet = df_triplet.loc[triplet_id]\n",
    "        sim1_res = d_resnet[triplet['query_id']][triplet['target_id1']]\n",
    "        sim2_res = d_resnet[triplet['query_id']][triplet['target_id2']]\n",
    "        sim1_sbert = simsim.get_similarity(triplet['query_id'], triplet['target_id1'])\n",
    "        sim2_sbert = simsim.get_similarity(triplet['query_id'], triplet['target_id2'])  \n",
    "        sim1 = w * sim1_res + (1 - w) * sim1_sbert\n",
    "        sim2 = w * sim2_res + (1 - w) * sim2_sbert\n",
    "        \n",
    "#         pred_sim = read_result(algo, triplet['query_id'], [triplet['target_id1'], triplet['target_id2']])\n",
    "#         sim1, sim2 = pred_sim[triplet['target_id1']], pred_sim[triplet['target_id2']]\n",
    "        \n",
    "        if sim1 > sim2:\n",
    "            oi = o1\n",
    "        else:\n",
    "            oi = o2\n",
    "        \n",
    "        s = (oi + 0.5 * p ) / (o1 + o2 + p + q )\n",
    "    #     print(o1, o2, o3, oi, s)\n",
    "        l_score.append(s)\n",
    "    algo_scores[f'mix{w:.3f}'] = l_score\n",
    "algo_scores = pd.DataFrame(algo_scores)\n"
   ]
  },
  {
   "cell_type": "code",
   "execution_count": 66,
   "metadata": {},
   "outputs": [],
   "source": [
    "l_mean_sbert_align = algo_scores.mean().to_list()[1:]"
   ]
  },
  {
   "cell_type": "code",
   "execution_count": 67,
   "metadata": {},
   "outputs": [
    {
     "data": {
      "text/plain": [
       "Text(0.5, 0, 'resnet mixing ratio')"
      ]
     },
     "execution_count": 67,
     "metadata": {},
     "output_type": "execute_result"
    },
    {
     "data": {
      "image/png": "[encoded data removed]",
      "text/plain": [
       "<Figure size 432x288 with 1 Axes>"
      ]
     },
     "metadata": {
      "needs_background": "light"
     },
     "output_type": "display_data"
    }
   ],
   "source": [
    "plt.plot(weights, l_mean_sbert_align, '--o')\n",
    "plt.xticks(weights, rotation=45);\n",
    "# plt.ylim([0,None])\n",
    "plt.text(0.01, 0.6, 'Mean S-BERT')\n",
    "plt.text(0.85, 0.57, 'ResNet')\n",
    "plt.ylabel('human agreement')\n",
    "plt.xlabel('resnet mixing ratio')"
   ]
  },
  {
   "cell_type": "code",
   "execution_count": 60,
   "metadata": {},
   "outputs": [
    {
     "data": {
      "text/plain": [
       "0.6660842026825639"
      ]
     },
     "execution_count": 60,
     "metadata": {},
     "output_type": "execute_result"
    }
   ],
   "source": [
    "np.max(l_human_align)"
   ]
  },
  {
   "cell_type": "markdown",
   "metadata": {},
   "source": [
    "## Figure"
   ]
  },
  {
   "cell_type": "code",
   "execution_count": 88,
   "metadata": {},
   "outputs": [
    {
     "data": {
      "image/png": "[encoded data removed]",
      "text/plain": [
       "<Figure size 432x216 with 1 Axes>"
      ]
     },
     "metadata": {
      "needs_background": "light"
     },
     "output_type": "display_data"
    }
   ],
   "source": [
    "plt.figure(figsize=(6,3))\n",
    "plt.rcParams.update({'font.size':18})\n",
    "plt.plot(weights, l_mean_sbert_align, '--or', )\n",
    "plt.plot(weights, l_gen_sbert_align, '--ob')\n",
    "plt.xticks(weights[::2], rotation=45);\n",
    "# plt.ylim([0,None])\n",
    "plt.text(0.01, 0.59, 'GT S-BERT')\n",
    "plt.text(0.01, 0.52, 'Gen S-BERT')\n",
    "plt.text(0.82, 0.555, 'ResNet')\n",
    "plt.ylim([0.5, None])\n",
    "plt.ylabel('Human agreement')\n",
    "plt.xlabel('ResNet portion')\n",
    "plt.savefig('fig_human_agreement.pdf', bbox_inches='tight')"
   ]
  },
  {
   "cell_type": "code",
   "execution_count": 61,
   "metadata": {},
   "outputs": [
    {
     "data": {
      "text/plain": [
       "0.55"
      ]
     },
     "execution_count": 61,
     "metadata": {},
     "output_type": "execute_result"
    }
   ],
   "source": [
    "weights[np.argmax(l_human_align)]"
   ]
  },
  {
   "cell_type": "code",
   "execution_count": null,
   "metadata": {},
   "outputs": [],
   "source": []
  }
 ],
 "metadata": {
  "kernelspec": {
   "display_name": "Python 3",
   "language": "python",
   "name": "python3"
  },
  "language_info": {
   "codemirror_mode": {
    "name": "ipython",
    "version": 3
   },
   "file_extension": ".py",
   "mimetype": "text/x-python",
   "name": "python",
   "nbconvert_exporter": "python",
   "pygments_lexer": "ipython3",
   "version": "3.7.6"
  }
 },
 "nbformat": 4,
 "nbformat_minor": 4
}
