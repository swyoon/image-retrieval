{
 "cells": [
  {
   "cell_type": "code",
   "execution_count": 1,
   "metadata": {
    "execution": {
     "iopub.execute_input": "2021-03-17T04:10:31.590572Z",
     "iopub.status.busy": "2021-03-17T04:10:31.589988Z",
     "iopub.status.idle": "2021-03-17T04:10:31.836646Z",
     "shell.execute_reply": "2021-03-17T04:10:31.835115Z",
     "shell.execute_reply.started": "2021-03-17T04:10:31.590498Z"
    }
   },
   "outputs": [],
   "source": [
    "import pandas as pd"
   ]
  },
  {
   "cell_type": "code",
   "execution_count": 2,
   "metadata": {
    "execution": {
     "iopub.execute_input": "2021-03-17T04:10:41.394270Z",
     "iopub.status.busy": "2021-03-17T04:10:41.393596Z",
     "iopub.status.idle": "2021-03-17T04:10:41.420442Z",
     "shell.execute_reply": "2021-03-17T04:10:41.419268Z",
     "shell.execute_reply.started": "2021-03-17T04:10:41.394182Z"
    }
   },
   "outputs": [],
   "source": [
    "df = pd.read_csv('results_v2_202003050303.csv')"
   ]
  },
  {
   "cell_type": "code",
   "execution_count": 6,
   "metadata": {
    "execution": {
     "iopub.execute_input": "2021-03-17T04:12:20.151908Z",
     "iopub.status.busy": "2021-03-17T04:12:20.151348Z",
     "iopub.status.idle": "2021-03-17T04:12:20.160362Z",
     "shell.execute_reply": "2021-03-17T04:12:20.158856Z",
     "shell.execute_reply.started": "2021-03-17T04:12:20.151838Z"
    }
   },
   "outputs": [],
   "source": [
    "l_username = df['user_id'].unique()"
   ]
  },
  {
   "cell_type": "code",
   "execution_count": 12,
   "metadata": {
    "execution": {
     "iopub.execute_input": "2021-03-17T04:13:40.635946Z",
     "iopub.status.busy": "2021-03-17T04:13:40.635347Z",
     "iopub.status.idle": "2021-03-17T04:13:40.644323Z",
     "shell.execute_reply": "2021-03-17T04:13:40.642775Z",
     "shell.execute_reply.started": "2021-03-17T04:13:40.635872Z"
    }
   },
   "outputs": [],
   "source": [
    "d_lookup = {username: f'user_{i}' for i, username in enumerate(l_username)}"
   ]
  },
  {
   "cell_type": "code",
   "execution_count": 15,
   "metadata": {
    "execution": {
     "iopub.execute_input": "2021-03-17T04:14:01.009633Z",
     "iopub.status.busy": "2021-03-17T04:14:01.009088Z",
     "iopub.status.idle": "2021-03-17T04:14:01.053245Z",
     "shell.execute_reply": "2021-03-17T04:14:01.052689Z",
     "shell.execute_reply.started": "2021-03-17T04:14:01.009564Z"
    }
   },
   "outputs": [],
   "source": [
    "df['user_id'] = df['user_id'].replace(d_lookup)"
   ]
  },
  {
   "cell_type": "code",
   "execution_count": 18,
   "metadata": {
    "execution": {
     "iopub.execute_input": "2021-03-17T04:14:30.108326Z",
     "iopub.status.busy": "2021-03-17T04:14:30.107783Z",
     "iopub.status.idle": "2021-03-17T04:14:30.119275Z",
     "shell.execute_reply": "2021-03-17T04:14:30.117738Z",
     "shell.execute_reply.started": "2021-03-17T04:14:30.108255Z"
    }
   },
   "outputs": [],
   "source": [
    "df = df.drop(columns='id')"
   ]
  },
  {
   "cell_type": "code",
   "execution_count": 20,
   "metadata": {
    "execution": {
     "iopub.execute_input": "2021-03-17T04:14:45.966081Z",
     "iopub.status.busy": "2021-03-17T04:14:45.965538Z",
     "iopub.status.idle": "2021-03-17T04:14:46.013476Z",
     "shell.execute_reply": "2021-03-17T04:14:46.012837Z",
     "shell.execute_reply.started": "2021-03-17T04:14:45.966009Z"
    }
   },
   "outputs": [],
   "source": [
    "df.to_csv('anon_results.csv', index=False)"
   ]
  }
 ],
 "metadata": {
  "kernelspec": {
   "display_name": "Python 3",
   "language": "python",
   "name": "python3"
  },
  "language_info": {
   "codemirror_mode": {
    "name": "ipython",
    "version": 3
   },
   "file_extension": ".py",
   "mimetype": "text/x-python",
   "name": "python",
   "nbconvert_exporter": "python",
   "pygments_lexer": "ipython3",
   "version": "3.7.6"
  }
 },
 "nbformat": 4,
 "nbformat_minor": 4
}
