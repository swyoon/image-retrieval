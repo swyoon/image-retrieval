{
 "cells": [
  {
   "cell_type": "markdown",
   "metadata": {},
   "source": [
    "# Make ablated scene graphs\n",
    "\n",
    "1. no attribute\n",
    "2. no relation label (direct connection between objects)\n",
    "3. random relation\n"
   ]
  },
  {
   "cell_type": "code",
   "execution_count": 2,
   "metadata": {},
   "outputs": [],
   "source": [
    "import numpy as np\n",
    "import matplotlib.pyplot as plt\n",
    "import sys\n",
    "sys.path.append('../')\n",
    "import torch\n",
    "import torch.nn as nn\n",
    "import pickle\n",
    "import pandas as pd\n",
    "from tqdm import tqdm\n",
    "import os\n",
    "import copy\n",
    "\n",
    "from dataloader import he_sampling\n",
    "from data import FlickrDataset, CocoDataset, VGDataset\n",
    "from PIL import Image\n",
    "import matplotlib.patches as patches\n",
    "\n",
    "from sklearn.feature_extraction.text import TfidfTransformer\n"
   ]
  },
  {
   "cell_type": "markdown",
   "metadata": {},
   "source": [
    "# 1. no attribute"
   ]
  },
  {
   "cell_type": "code",
   "execution_count": 2,
   "metadata": {},
   "outputs": [],
   "source": [
    "dataset = 'vg_coco'\n",
    "if dataset == 'vg_coco':\n",
    "    sg_path = '/data/project/rw/CBIR/data/vg_coco/vg_coco_sgg.pkl'\n",
    "    sg = pickle.load(open(sg_path, 'rb'))\n",
    "    out_path = '/data/project/rw/CBIR/data/vg_coco/vg_coco_sgg_noatt.pkl'"
   ]
  },
  {
   "cell_type": "code",
   "execution_count": 3,
   "metadata": {},
   "outputs": [
    {
     "name": "stdout",
     "output_type": "stream",
     "text": [
      "48220\n",
      "dict_keys(['obj_bboxes', 'obj_attributes', 'edge_labels', 'num_objs', 'num_rels', 'obj_labels', 'adj', 'node_labels', 'imgid'])\n"
     ]
    }
   ],
   "source": [
    "print(len(sg))\n",
    "print(sg[0].keys())"
   ]
  },
  {
   "cell_type": "code",
   "execution_count": 4,
   "metadata": {},
   "outputs": [],
   "source": [
    "new_sg = copy.deepcopy(sg)"
   ]
  },
  {
   "cell_type": "code",
   "execution_count": 7,
   "metadata": {},
   "outputs": [
    {
     "name": "stderr",
     "output_type": "stream",
     "text": [
      "100%|██████████| 48220/48220 [00:05<00:00, 9088.30it/s] \n"
     ]
    }
   ],
   "source": [
    "for i, sg_ in enumerate(tqdm(sg)):\n",
    "    n_obj = len(sg_['obj_bboxes'])\n",
    "    n_attr = len(sg_['obj_attributes'])\n",
    "    \n",
    "    a = np.delete(sg_['adj'], np.s_[n_obj:n_obj+n_attr], axis=1)\n",
    "    new_adj = np.delete(a, np.s_[n_obj:n_obj+n_attr], axis=0)\n",
    "    new_sg[i]['adj'] = new_adj\n",
    "    new_sg[i]['node_labels'] = sg_['node_labels'][:n_obj] + sg_['node_labels'][n_obj+n_attr:]"
   ]
  },
  {
   "cell_type": "code",
   "execution_count": 10,
   "metadata": {},
   "outputs": [],
   "source": [
    "pickle.dump(new_sg, open(out_path, 'wb'))"
   ]
  },
  {
   "cell_type": "markdown",
   "metadata": {},
   "source": [
    "# 2. No relation label"
   ]
  },
  {
   "cell_type": "code",
   "execution_count": 83,
   "metadata": {},
   "outputs": [],
   "source": [
    "dataset = 'vg_coco'\n",
    "if dataset == 'vg_coco':\n",
    "    sg_path = '/data/project/rw/CBIR/data/vg_coco/vg_coco_sgg.pkl'\n",
    "    sg = pickle.load(open(sg_path, 'rb'))\n",
    "    out_path = '/data/project/rw/CBIR/data/vg_coco/vg_coco_sgg_norel.pkl'"
   ]
  },
  {
   "cell_type": "code",
   "execution_count": 84,
   "metadata": {},
   "outputs": [
    {
     "name": "stdout",
     "output_type": "stream",
     "text": [
      "48220\n",
      "dict_keys(['obj_bboxes', 'obj_attributes', 'edge_labels', 'num_objs', 'num_rels', 'obj_labels', 'adj', 'node_labels', 'imgid'])\n"
     ]
    }
   ],
   "source": [
    "print(len(sg))\n",
    "print(sg[0].keys())"
   ]
  },
  {
   "cell_type": "code",
   "execution_count": 85,
   "metadata": {},
   "outputs": [],
   "source": [
    "new_sg = copy.deepcopy(sg)"
   ]
  },
  {
   "cell_type": "code",
   "execution_count": 86,
   "metadata": {},
   "outputs": [
    {
     "data": {
      "text/plain": [
       "dtype('float32')"
      ]
     },
     "execution_count": 86,
     "metadata": {},
     "output_type": "execute_result"
    }
   ],
   "source": [
    "sg[0]['adj'].dtype"
   ]
  },
  {
   "cell_type": "code",
   "execution_count": 88,
   "metadata": {},
   "outputs": [
    {
     "name": "stderr",
     "output_type": "stream",
     "text": [
      "100%|██████████| 48220/48220 [00:44<00:00, 1089.33it/s]\n"
     ]
    }
   ],
   "source": [
    "for i, sg_ in enumerate(tqdm(sg)):\n",
    "    n_obj = len(sg_['obj_bboxes'])\n",
    "    n_attr = len(sg_['obj_attributes'])\n",
    "    adj = sg_['adj']\n",
    "    adj_ = sg_['adj'].copy()\n",
    "    \n",
    "    for i_rel in range(n_obj + n_attr, len(adj)):\n",
    "        out_idx = np.argmax(adj[i_rel])\n",
    "        in_idx = np.argmax(adj[:,i_rel])\n",
    "        adj_[in_idx][out_idx] = 1\n",
    "    \n",
    "    a = np.delete(adj_, np.s_[n_obj+n_attr:len(adj)], axis=1)\n",
    "    new_adj = np.delete(a, np.s_[n_obj+n_attr:len(adj)], axis=0)\n",
    "#     new_adj = ((new_adj + new_adj.T) > 0).astype('float32')\n",
    "    new_sg[i]['adj'] = new_adj\n",
    "    new_sg[i]['node_labels'] = sg_['node_labels'][:n_obj + n_attr]"
   ]
  },
  {
   "cell_type": "code",
   "execution_count": 89,
   "metadata": {},
   "outputs": [],
   "source": [
    "pickle.dump(new_sg, open(out_path, 'wb'))"
   ]
  },
  {
   "cell_type": "markdown",
   "metadata": {},
   "source": [
    "# 3. Random relation"
   ]
  },
  {
   "cell_type": "code",
   "execution_count": 115,
   "metadata": {},
   "outputs": [],
   "source": [
    "dataset = 'vg_coco'\n",
    "if dataset == 'vg_coco':\n",
    "    sg_path = '/data/project/rw/CBIR/data/vg_coco/vg_coco_sgg.pkl'\n",
    "    sg = pickle.load(open(sg_path, 'rb'))\n",
    "    out_path = '/data/project/rw/CBIR/data/vg_coco/vg_coco_sgg_randrel.pkl'"
   ]
  },
  {
   "cell_type": "code",
   "execution_count": 116,
   "metadata": {},
   "outputs": [
    {
     "name": "stdout",
     "output_type": "stream",
     "text": [
      "48220\n",
      "dict_keys(['obj_bboxes', 'obj_attributes', 'edge_labels', 'num_objs', 'num_rels', 'obj_labels', 'adj', 'node_labels', 'imgid'])\n"
     ]
    }
   ],
   "source": [
    "print(len(sg))\n",
    "print(sg[0].keys())"
   ]
  },
  {
   "cell_type": "code",
   "execution_count": 117,
   "metadata": {},
   "outputs": [],
   "source": [
    "new_sg = copy.deepcopy(sg)"
   ]
  },
  {
   "cell_type": "code",
   "execution_count": 118,
   "metadata": {},
   "outputs": [
    {
     "name": "stderr",
     "output_type": "stream",
     "text": [
      "100%|██████████| 48220/48220 [07:16<00:00, 110.53it/s]\n"
     ]
    }
   ],
   "source": [
    "for i, sg_ in enumerate(tqdm(sg)):\n",
    "    n_obj = len(sg_['obj_bboxes'])\n",
    "    n_attr = len(sg_['obj_attributes'])\n",
    "    adj = sg_['adj']\n",
    "    adj_ = sg_['adj'].copy()\n",
    "    \n",
    "    for i_rel in range(n_obj + n_attr, len(adj)):\n",
    "        in_idx, out_idx = np.random.choice(n_obj, size=(2,), replace=False)\n",
    "        adj_[i_rel,:] = 0\n",
    "        adj_[:,i_rel] = 0\n",
    "        adj_[i_rel, in_idx] = 1\n",
    "        adj_[out_idx, i_rel] = 1\n",
    "   \n",
    "\n",
    "    new_sg[i]['adj'] = adj_"
   ]
  },
  {
   "cell_type": "code",
   "execution_count": 119,
   "metadata": {},
   "outputs": [],
   "source": [
    "pickle.dump(new_sg, open(out_path, 'wb'))"
   ]
  },
  {
   "cell_type": "code",
   "execution_count": 120,
   "metadata": {},
   "outputs": [
    {
     "data": {
      "text/plain": [
       "<matplotlib.image.AxesImage at 0x7fb150105518>"
      ]
     },
     "execution_count": 120,
     "metadata": {},
     "output_type": "execute_result"
    },
    {
     "data": {
      "image/png": "[encoded data removed]",
      "text/plain": [
       "<Figure size 432x288 with 1 Axes>"
      ]
     },
     "metadata": {
      "needs_background": "light"
     },
     "output_type": "display_data"
    }
   ],
   "source": [
    "plt.imshow(adj_)"
   ]
  },
  {
   "cell_type": "markdown",
   "metadata": {},
   "source": [
    "# 4. attribute와 relation 모두 빼기"
   ]
  },
  {
   "cell_type": "code",
   "execution_count": 121,
   "metadata": {},
   "outputs": [],
   "source": [
    "dataset = 'vg_coco'\n",
    "if dataset == 'vg_coco':\n",
    "    sg_path = '/data/project/rw/CBIR/data/vg_coco/vg_coco_sgg.pkl'\n",
    "    sg = pickle.load(open(sg_path, 'rb'))\n",
    "    out_path = '/data/project/rw/CBIR/data/vg_coco/vg_coco_sgg_obj.pkl'"
   ]
  },
  {
   "cell_type": "code",
   "execution_count": 122,
   "metadata": {},
   "outputs": [
    {
     "name": "stdout",
     "output_type": "stream",
     "text": [
      "48220\n",
      "dict_keys(['obj_bboxes', 'obj_attributes', 'edge_labels', 'num_objs', 'num_rels', 'obj_labels', 'adj', 'node_labels', 'imgid'])\n"
     ]
    }
   ],
   "source": [
    "print(len(sg))\n",
    "print(sg[0].keys())"
   ]
  },
  {
   "cell_type": "code",
   "execution_count": 123,
   "metadata": {},
   "outputs": [],
   "source": [
    "new_sg = copy.deepcopy(sg)"
   ]
  },
  {
   "cell_type": "code",
   "execution_count": 124,
   "metadata": {},
   "outputs": [
    {
     "name": "stderr",
     "output_type": "stream",
     "text": [
      "100%|██████████| 48220/48220 [00:53<00:00, 895.98it/s] \n"
     ]
    }
   ],
   "source": [
    "for i, sg_ in enumerate(tqdm(sg)):\n",
    "    n_obj = len(sg_['obj_bboxes'])\n",
    "    n_attr = len(sg_['obj_attributes'])\n",
    "    adj = sg_['adj']\n",
    "    adj_ = sg_['adj'].copy()\n",
    "    \n",
    "    for i_rel in range(n_obj + n_attr, len(adj)):\n",
    "        out_idx = np.argmax(adj[i_rel])\n",
    "        in_idx = np.argmax(adj[:,i_rel])\n",
    "        adj_[in_idx][out_idx] = 1\n",
    "    \n",
    "    a = np.delete(adj_, np.s_[n_obj:len(adj)], axis=1)\n",
    "    new_adj = np.delete(a, np.s_[n_obj:len(adj)], axis=0)\n",
    "\n",
    "    new_sg[i]['adj'] = new_adj\n",
    "    new_sg[i]['node_labels'] = sg_['node_labels'][:n_obj]"
   ]
  },
  {
   "cell_type": "code",
   "execution_count": 125,
   "metadata": {},
   "outputs": [],
   "source": [
    "pickle.dump(new_sg, open(out_path, 'wb'))"
   ]
  },
  {
   "cell_type": "code",
   "execution_count": null,
   "metadata": {},
   "outputs": [],
   "source": []
  },
  {
   "cell_type": "code",
   "execution_count": null,
   "metadata": {},
   "outputs": [],
   "source": []
  }
 ],
 "metadata": {
  "kernelspec": {
   "display_name": "Python 3",
   "language": "python",
   "name": "python3"
  },
  "language_info": {
   "codemirror_mode": {
    "name": "ipython",
    "version": 3
   },
   "file_extension": ".py",
   "mimetype": "text/x-python",
   "name": "python",
   "nbconvert_exporter": "python",
   "pygments_lexer": "ipython3",
   "version": "3.6.8"
  }
 },
 "nbformat": 4,
 "nbformat_minor": 4
}
